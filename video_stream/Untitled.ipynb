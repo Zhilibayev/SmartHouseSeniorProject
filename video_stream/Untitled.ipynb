{
 "cells": [
  {
   "cell_type": "code",
   "execution_count": 17,
   "metadata": {},
   "outputs": [
    {
     "name": "stdout",
     "output_type": "stream",
     "text": [
      "['test/aibek.jpg', 'test/aibek2.jpg', 'test/aidar.jpg', 'test/aidar1.jpg', 'test/banu.jpg', 'test/serik1.jpg', 'test/serik2.jpg']\n"
     ]
    }
   ],
   "source": [
    "import face_recognition\n",
    "import cv2\n",
    "import numpy as np\n",
    "import skimage \n",
    "import glob\n",
    "\n",
    "# This is a demo of running face recognition on live video from your webcam. It's a little more complicated than the\n",
    "# other example, but it includes some basic performance tweaks to make things run a lot faster:\n",
    "#   1. Process each video frame at 1/4 resolution (though still display it at full resolution)\n",
    "#   2. Only detect faces in every other frame of video.\n",
    "\n",
    "# PLEASE NOTE: This example requires OpenCV (the `cv2` library) to be installed only to read from your webcam.\n",
    "# OpenCV is *not* required to use the face_recognition library. It's only required if you want to run this\n",
    "# specific demo. If you have trouble installing it, try any of the other demos that don't require it instead.\n",
    "\n",
    "# Load a sample picture and learn how to recognize it.\n",
    "aidar_image = face_recognition.load_image_file(\"aidar.jpg\")\n",
    "aidar_face_encoding = face_recognition.face_encodings(aidar_image, num_jitters=4)[0]\n",
    "\n",
    "# Load a second sample picture and learn how to recognize it.\n",
    "serik_image = face_recognition.load_image_file(\"serik.jpg\")\n",
    "serik_face_encoding = face_recognition.face_encodings(serik_image, num_jitters=4)[0]\n",
    "\n",
    "# Load a third sample picture and learn how to recognize it.\n",
    "askhat_image = face_recognition.load_image_file(\"askhat.jpg\")\n",
    "askhat_face_encoding = face_recognition.face_encodings(askhat_image, num_jitters=4)[0]\n",
    "\n",
    "\n",
    "# Create arrays of known face encodings and their names\n",
    "known_face_encodings = [\n",
    "    aidar_face_encoding,\n",
    "    serik_face_encoding,\n",
    "    askhat_face_encoding\n",
    "]\n",
    "known_face_names = [\n",
    "    \"Aidar\",\n",
    "    \"Serik\",\n",
    "    \"Askhat\"\n",
    "]\n",
    "\n",
    "# Initialize some variables\n",
    "face_locations = []\n",
    "face_encodings = []\n",
    "face_names = []\n",
    "process_this_frame = True\n",
    "test_images = []\n",
    "for filename in glob.glob('test/*.jpg'): #assuming gif\n",
    "    test_images.append(filename)\n",
    "\n",
    "print(test_images)\n"
   ]
  },
  {
   "cell_type": "code",
   "execution_count": 18,
   "metadata": {},
   "outputs": [
    {
     "name": "stdout",
     "output_type": "stream",
     "text": [
      "['Unknown'] test/aibek.jpg\n",
      "['Unknown'] test/aibek2.jpg\n",
      "['Aidar'] test/aidar.jpg\n",
      "['Aidar'] test/aidar1.jpg\n",
      "['Unknown'] test/banu.jpg\n",
      "['Unknown'] test/serik1.jpg\n",
      "['Serik'] test/serik2.jpg\n"
     ]
    }
   ],
   "source": [
    "for file_path in test_images:\n",
    "    # Grab a single frame of video\n",
    "    frame = cv2.imread(file_path)\n",
    "\n",
    "    # Resize frame of video to 1/4 size for faster face recognition processing\n",
    "    small_frame = cv2.resize(frame, (0, 0), fx=0.25, fy=0.25)\n",
    "\n",
    "    # Convert the image from BGR color (which OpenCV uses) to RGB color (which face_recognition uses)\n",
    "    rgb_small_frame = small_frame[:, :, ::-1]\n",
    "\n",
    "    # Only process every other frame of video to save time\n",
    "    if process_this_frame:\n",
    "        # Find all the faces and face encodings in the current frame of video\n",
    "        face_locations = face_recognition.face_locations(rgb_small_frame)\n",
    "        face_encodings = face_recognition.face_encodings(rgb_small_frame, face_locations)\n",
    "\n",
    "        face_names = []\n",
    "        for face_encoding in face_encodings:\n",
    "            # See if the face is a match for the known face(s)\n",
    "            matches = face_recognition.compare_faces(known_face_encodings, face_encoding, tolerance=0.4)\n",
    "            name = \"Unknown\"\n",
    "\n",
    "            # If a match was found in known_face_encodings, just use the first one.\n",
    "            if True in matches:\n",
    "                first_match_index = matches.index(True)\n",
    "                name = known_face_names[first_match_index]\n",
    "\n",
    "            # Or instead, use the known face with the smallest distance to the new face\n",
    "            face_distances = face_recognition.face_distance(known_face_encodings, face_encoding)\n",
    "            best_match_index = np.argmin(face_distances)\n",
    "            if matches[best_match_index]:\n",
    "                name = known_face_names[best_match_index]\n",
    "\n",
    "            face_names.append(name)\n",
    "\n",
    "    process_this_frame = not process_this_frame\n",
    "    print(str(face_names) + \" \" + str(file_path))\n"
   ]
  },
  {
   "cell_type": "code",
   "execution_count": null,
   "metadata": {},
   "outputs": [],
   "source": []
  }
 ],
 "metadata": {
  "kernelspec": {
   "display_name": "Python 3",
   "language": "python",
   "name": "python3"
  },
  "language_info": {
   "codemirror_mode": {
    "name": "ipython",
    "version": 3
   },
   "file_extension": ".py",
   "mimetype": "text/x-python",
   "name": "python",
   "nbconvert_exporter": "python",
   "pygments_lexer": "ipython3",
   "version": "3.6.5"
  }
 },
 "nbformat": 4,
 "nbformat_minor": 2
}
